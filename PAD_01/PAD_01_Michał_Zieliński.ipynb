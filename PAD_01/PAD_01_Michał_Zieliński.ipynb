{
  "cells": [
    {
      "cell_type": "markdown",
      "metadata": {
        "id": "Xr30orxp4KWi"
      },
      "source": [
        "# Funkcje"
      ]
    },
    {
      "cell_type": "markdown",
      "metadata": {
        "id": "XfmgY2Bt4KWj"
      },
      "source": [
        "## Definiowanie Fukncji"
      ]
    },
    {
      "cell_type": "markdown",
      "metadata": {
        "id": "1zkoUL4g4KWj"
      },
      "source": [
        "- Widzieliśmy już pętle for jako sposób na przestrzeganie zasady DRY (Don't Repeat Yourself).\n",
        "- Następnym ważnym krokiem są funkcje.\n",
        "- Funkcje umożliwiają zaprogramowanie bloku kodu, który działa tylko po wywołaniu.\n",
        "- Oznacza to, że możemy uniknąć konieczności ponownego definiowania tych samych operacji, gdy wykonujemy je wielokrotnie.\n",
        "<br><br>\n",
        "- Funkcja przyjmuje parametry i zwraca dane wyjściowe.\n",
        "- Wartość przekazana jako parametr nazywana jest argumentem.\n",
        "- Funkcja powiązana z obiektem nazywana jest metodą.\n",
        "- Instancja funkcji nazywana jest wywołaniem funkcji.\n",
        "- Podstawowa składnia funkcji jest następująca:"
      ]
    },
    {
      "cell_type": "code",
      "execution_count": null,
      "metadata": {
        "id": "gD1lU50O4KWk"
      },
      "outputs": [],
      "source": [
        "# function definition\n",
        "def function_name (param1, param2 = 1):\n",
        "    '''\n",
        "    DOCSTRING: explains function\n",
        "    INPUT: Name (str)\n",
        "    OUTPUT: Hello Name (str)\n",
        "    '''\n",
        "    # add code to run\n",
        "    return(\"Hello \" + param1)"
      ]
    },
    {
      "cell_type": "code",
      "execution_count": null,
      "metadata": {
        "id": "ugftlJh14KWk"
      },
      "outputs": [],
      "source": [
        "# function call\n",
        "function_name(\"Zain\")"
      ]
    },
    {
      "cell_type": "code",
      "execution_count": null,
      "metadata": {
        "id": "Dew5bmNM4KWl"
      },
      "outputs": [],
      "source": [
        "function_name"
      ]
    },
    {
      "cell_type": "markdown",
      "metadata": {
        "id": "3ghCvF9S4KWl"
      },
      "source": [
        "- Słowo kluczowe __def__ pokazuje pythona, którego zamierzasz zdefiniować.\n",
        "- __Nazwa funkcji__ jest następna, nazwij wszystkie małe litery, oddzielone podkreśleniami, nie używaj wbudowanych słów kluczowych: zobacz PEP8 po szczegóły.\n",
        "- __Parametry__ zdefiniowane w nawiasach.\n",
        "- __Argumenty domyślne__ to argumenty, które mają wartość domyślną do przywrócenia, jeśli nie określono innej wartości. W tym przypadku param2 = 1 oznacza, że ​​param2 będzie wynosić 1, chyba że zostanie określone jako coś innego w wywołaniu funkcji.\n",
        "- __Dwukropek__ oznacza koniec linii definicji, następny wiersz będzie wcięty.\n",
        "- __Docstrings__ wyjaśnij, co robi funkcja: przeczytaj PEP257 lub google __*'python docstrings'*__, aby uzyskać wskazówki.\n",
        "- https://www.python.org/dev/peps/pep-0257/\n",
        "- Słowo kluczowe __return__ wskazuje wyjście funkcji.\n",
        "<br><br>\n",
        "- Wykonując wywołanie funkcji, piszemy nazwę funkcji, a po niej nawiasy zawierające argumenty do przekazania.\n",
        "- __POWOLNY BŁĄD: jeśli wywołasz funkcję bez nawiasów, nie będzie działać!!!__\n",
        "- Po prostu pokaże informacje o funkcji, w tym moduł, do którego należy, jej nazwę i parametry, które przyjmuje."
      ]
    },
    {
      "cell_type": "markdown",
      "metadata": {
        "id": "rc1PbHGN4KWl"
      },
      "source": [
        "## help()"
      ]
    },
    {
      "cell_type": "markdown",
      "metadata": {
        "id": "wBNkKmDK4KWl"
      },
      "source": [
        "- Możemy użyć funkcji help(), aby znaleźć dokumentację, jeśli nie wiemy, co robi funkcja.\n",
        "- Lub naciśnij Shift + Tab.\n",
        "- Aby uzyskać bardziej szczegółową dokumentację, lepiej znaleźć i wykorzystać pełną dokumentację funkcji (google it!)."
      ]
    },
    {
      "cell_type": "code",
      "execution_count": null,
      "metadata": {
        "id": "YqxUviBr4KWl"
      },
      "outputs": [],
      "source": [
        "help(function_name)"
      ]
    },
    {
      "cell_type": "code",
      "execution_count": null,
      "metadata": {
        "id": "7S2GKGKa4KWm"
      },
      "outputs": [],
      "source": [
        "help(print)"
      ]
    },
    {
      "cell_type": "markdown",
      "metadata": {
        "id": "U5a2dLLm4KWm"
      },
      "source": [
        "## Zakres zmiennej"
      ]
    },
    {
      "cell_type": "markdown",
      "metadata": {
        "id": "5Reeoyn14KWm"
      },
      "source": [
        "- Zakres zmiennej odnosi się do części programu, które mogą odwoływać się do zmiennej.\n",
        "- Istnieją 2 rodzaje zasięgu: lokalny i globalny.\n",
        "— Do zmiennej zdefiniowanej wewnątrz funkcji można się odwoływać tylko wewnątrz tej funkcji: zakres lokalny.\n",
        "— Do zmiennej zdefiniowanej poza funkcją (w ogólnym skrypcie) można się odwoływać wewnątrz funkcji, ale nie można jej modyfikować wewnątrz funkcji (UnboundLocalError).\n",
        "- Aby zmienić go w funkcji, należy go ponownie zdefiniować w funkcji."
      ]
    },
    {
      "cell_type": "code",
      "execution_count": null,
      "metadata": {
        "id": "bxRiwU_a4KWm"
      },
      "outputs": [],
      "source": [
        "counter = 0\n",
        "\n",
        "def add_to_counter():\n",
        "    counter += 12 # add 12 to counter\n",
        "\n",
        "add_to_counter()"
      ]
    },
    {
      "cell_type": "code",
      "execution_count": null,
      "metadata": {
        "id": "6LqrioUJ4KWm"
      },
      "outputs": [],
      "source": [
        "counter = 0\n",
        "\n",
        "def add_to_counter(count):\n",
        "    return count + 12  # add 12 to counter\n",
        "\n",
        "counter = add_to_counter(counter)\n",
        "\n",
        "print(counter)"
      ]
    },
    {
      "cell_type": "markdown",
      "metadata": {
        "id": "MLnt_7DN4KWm"
      },
      "source": [
        "## Ćwiczenie 1"
      ]
    },
    {
      "cell_type": "markdown",
      "metadata": {
        "id": "jUw1Fw4K4KWn"
      },
      "source": [
        "Napisz funkcję o nazwie check_range, która sprawdza, czy liczba znajduje się w podanym zakresie (zawiera zarówno niski *__i__* wysoki). <br>\n",
        "Jeśli tak, zwróć „x jest między y a z”. <br>\n",
        "Jeśli tak nie jest, zwróć „x NIE jest między y a z”. <br>\n",
        "Gdzie:\n",
        "- x to liczba\n",
        "- y jest dolną granicą\n",
        "- z to górna granica"
      ]
    },
    {
      "cell_type": "code",
      "execution_count": 1,
      "metadata": {
        "id": "w0I-4CSp4KWn"
      },
      "outputs": [],
      "source": [
        "def check_range(x,y,z):\n",
        "  if x>=y and x<=z:\n",
        "    return f\"{x} jest między {y} a {z}\"\n",
        "  else:\n",
        "    return f\"{x} NIE jest między {y} a {z}\""
      ]
    },
    {
      "cell_type": "code",
      "execution_count": 2,
      "metadata": {
        "colab": {
          "base_uri": "https://localhost:8080/",
          "height": 35
        },
        "id": "NPEMqGNA4KWn",
        "outputId": "f82627a2-1977-46cc-a6f9-1313910fd63d"
      },
      "outputs": [
        {
          "output_type": "execute_result",
          "data": {
            "text/plain": [
              "'34 jest między 9 a 228'"
            ],
            "application/vnd.google.colaboratory.intrinsic+json": {
              "type": "string"
            }
          },
          "metadata": {},
          "execution_count": 2
        }
      ],
      "source": [
        "check_range(34, 9, 228)"
      ]
    },
    {
      "cell_type": "code",
      "execution_count": 3,
      "metadata": {
        "colab": {
          "base_uri": "https://localhost:8080/",
          "height": 35
        },
        "id": "jrtrD-c44KWn",
        "outputId": "04598fea-175b-4e33-cde7-832e76c84c57"
      },
      "outputs": [
        {
          "output_type": "execute_result",
          "data": {
            "text/plain": [
              "'7 NIE jest między 2 a 5'"
            ],
            "application/vnd.google.colaboratory.intrinsic+json": {
              "type": "string"
            }
          },
          "metadata": {},
          "execution_count": 3
        }
      ],
      "source": [
        "check_range(7, 2, 5)"
      ]
    },
    {
      "cell_type": "markdown",
      "metadata": {
        "id": "I-J8mFiZ4KWn"
      },
      "source": [
        "Napisz funkcję o nazwie bool_range, która robi to samo, ale zwraca tylko wartość logiczną."
      ]
    },
    {
      "cell_type": "code",
      "execution_count": null,
      "metadata": {
        "id": "y4CEGJ-74KWn"
      },
      "outputs": [],
      "source": [
        "def bool_range(x,y,z):\n",
        "  if x>=y and x<=z:\n",
        "    return True\n",
        "  else:\n",
        "    return False"
      ]
    },
    {
      "cell_type": "code",
      "execution_count": null,
      "metadata": {
        "colab": {
          "base_uri": "https://localhost:8080/"
        },
        "id": "EWTK6CqK4KWn",
        "outputId": "5d75b90c-3526-4c0f-de6d-60867ee00e92"
      },
      "outputs": [
        {
          "output_type": "execute_result",
          "data": {
            "text/plain": [
              "True"
            ]
          },
          "metadata": {},
          "execution_count": 12
        }
      ],
      "source": [
        "bool_range(7, 5, 20)"
      ]
    },
    {
      "cell_type": "code",
      "execution_count": null,
      "metadata": {
        "colab": {
          "base_uri": "https://localhost:8080/"
        },
        "id": "26QKY9iA4KWn",
        "outputId": "35a57099-d3d2-4a1e-9b9c-6e125c2deb07"
      },
      "outputs": [
        {
          "output_type": "execute_result",
          "data": {
            "text/plain": [
              "False"
            ]
          },
          "metadata": {},
          "execution_count": 13
        }
      ],
      "source": [
        "bool_range(67, 22, 25)"
      ]
    },
    {
      "cell_type": "markdown",
      "metadata": {
        "id": "m3Hgq2VO4KWn"
      },
      "source": [
        "## Ćwiczenie 2"
      ]
    },
    {
      "cell_type": "markdown",
      "metadata": {
        "id": "C21xh9NU4KWo"
      },
      "source": [
        "Napisz funkcję o nazwie unique_list, która pobiera listę i zwraca listę zawierającą tylko unikalne elementy danych wejściowych."
      ]
    },
    {
      "cell_type": "code",
      "execution_count": null,
      "metadata": {
        "id": "2jUFVCeP4KWo"
      },
      "outputs": [],
      "source": [
        "def unique_list(given_list: list):\n",
        "  new_list = []\n",
        "  for val in given_list:\n",
        "    if not val in new_list:\n",
        "      new_list.append(val)\n",
        "\n",
        "  return new_list\n"
      ]
    },
    {
      "cell_type": "code",
      "execution_count": null,
      "metadata": {
        "colab": {
          "base_uri": "https://localhost:8080/"
        },
        "id": "_fnG3KbT4KWo",
        "outputId": "5cccf33e-4dbf-4298-9531-e6b05e2041a9"
      },
      "outputs": [
        {
          "output_type": "execute_result",
          "data": {
            "text/plain": [
              "[1, 3, 5, 6, 4, 2, 12, 63]"
            ]
          },
          "metadata": {},
          "execution_count": 21
        }
      ],
      "source": [
        "my_list = [1,3,5,6,4,3,2,3,3,4,3,4,5,6,6,4,3,2,12,3,5,63,4,5,3,3,2]\n",
        "\n",
        "unique_list(my_list)"
      ]
    },
    {
      "cell_type": "markdown",
      "metadata": {
        "id": "H4KO5wdF4KWo"
      },
      "source": [
        "Znajdź inny sposób wykonania tej samej operacji bez definiowania funkcji."
      ]
    },
    {
      "cell_type": "code",
      "execution_count": null,
      "metadata": {
        "colab": {
          "base_uri": "https://localhost:8080/"
        },
        "id": "atm8sngP4KWo",
        "outputId": "d66b5db7-1e7d-4ba7-d041-349ab353ab44"
      },
      "outputs": [
        {
          "output_type": "execute_result",
          "data": {
            "text/plain": [
              "[1, 2, 3, 4, 5, 6, 12, 63]"
            ]
          },
          "metadata": {},
          "execution_count": 29
        }
      ],
      "source": [
        "my_list = [1,3,5,6,4,3,2,3,3,4,3,4,5,6,6,4,3,2,12,3,5,63,4,5,3,3,2]\n",
        "new_list = list(set(my_list))\n",
        "new_list"
      ]
    },
    {
      "cell_type": "markdown",
      "metadata": {
        "id": "FbUkxd-84KWo"
      },
      "source": [
        "## Ćwiczenie 3"
      ]
    },
    {
      "cell_type": "markdown",
      "metadata": {
        "id": "issujpVP4KWo"
      },
      "source": [
        "Napisz funkcję o nazwie objętość_kuli, która przyjmuje promień kuli i zwraca jej objętość zaokrągloną do 2 dp. (Google wzór na objętość kuli, użyj pi = 3,14)"
      ]
    },
    {
      "cell_type": "code",
      "execution_count": null,
      "metadata": {
        "id": "6T_yiuRk4KWo"
      },
      "outputs": [],
      "source": [
        "def volume_of_sphere(r):\n",
        "  v = (4.0/3.0) * 3.14 * (r**3.0)\n",
        "  return round(v,2)\n"
      ]
    },
    {
      "cell_type": "code",
      "execution_count": null,
      "metadata": {
        "colab": {
          "base_uri": "https://localhost:8080/"
        },
        "id": "MLzj4gmq4KWo",
        "outputId": "35394def-70e3-4f81-8014-87bab7806d50"
      },
      "outputs": [
        {
          "output_type": "execute_result",
          "data": {
            "text/plain": [
              "33.49"
            ]
          },
          "metadata": {},
          "execution_count": 38
        }
      ],
      "source": [
        "volume_of_sphere(2)"
      ]
    },
    {
      "cell_type": "code",
      "execution_count": null,
      "metadata": {
        "id": "_wFmCNVo4KWo"
      },
      "outputs": [],
      "source": []
    },
    {
      "cell_type": "markdown",
      "metadata": {
        "id": "r1PDdpcj4KWo"
      },
      "source": [
        "## Rekurencja"
      ]
    },
    {
      "cell_type": "markdown",
      "metadata": {
        "id": "SwK1uFOy4KWp"
      },
      "source": [
        "- Funkcja rekurencyjna to funkcja, która wywołuje siebie w ramach swojej definicji.\n",
        "- Na początku może to być trudne do zrozumienia, ale pomyśl o tym jako o przełamaniu dużego problemu w wielokrotne robienie małego problemu.\n",
        "- Oznacza to, że złożony problem można uprościć, powtarzając przy każdym powtórzeniu prostszą i prostszą formę tego samego problemu.\n",
        "- Musimy jednak podać „najprostszą formę” funkcji, w której funkcja się zatrzymuje, w przeciwnym razie będzie się powtarzać w nieskończoność i wygeneruje błąd.\n",
        "- Nazywamy tę „najprostszą formę” przypadkiem podstawowym.\n",
        "- Najlepiej ilustruje to przykład:"
      ]
    },
    {
      "cell_type": "code",
      "execution_count": null,
      "metadata": {
        "id": "BsGrXXJO4KWp"
      },
      "outputs": [],
      "source": [
        "# Funkcja, która przyjmuje jako wejście liczbę początkową do odliczania\n",
        "def countdown(n):\n",
        "\n",
        "    # przypadek podstawowy: w tym miejscu funkcja ostatecznie się zatrzyma\n",
        "    if n == 0:\n",
        "        print(0)\n",
        "\n",
        "    # tutaj redukujemy problem do prostszej wersji\n",
        "    else:\n",
        "\n",
        "        #wypisujemy numer odliczania\n",
        "        print(n)\n",
        "\n",
        "        # powtarzamy funkcję z następną najmniejszą liczbą\n",
        "        countdown(n-1)\n",
        "\n",
        "\n",
        "countdown(5)"
      ]
    },
    {
      "cell_type": "code",
      "execution_count": null,
      "metadata": {
        "id": "eBiCUY814KWp"
      },
      "outputs": [],
      "source": []
    },
    {
      "cell_type": "markdown",
      "metadata": {
        "id": "22oEv7mm4KWp"
      },
      "source": [
        "## Ćwiczenie 4"
      ]
    },
    {
      "cell_type": "markdown",
      "metadata": {
        "id": "4bvrpo7n4KWp"
      },
      "source": [
        "Zdefiniuj funkcję rekurencyjną o nazwie num_fact, która zwraca silnię podanej liczby."
      ]
    },
    {
      "cell_type": "code",
      "execution_count": null,
      "metadata": {
        "id": "UiddcTzu4KWp"
      },
      "outputs": [],
      "source": [
        "def num_fact(num):\n",
        "  if num != 0 and num != 1:\n",
        "    return num * num_fact(num-1)\n",
        "  else:\n",
        "    return 1"
      ]
    },
    {
      "cell_type": "code",
      "execution_count": null,
      "metadata": {
        "colab": {
          "base_uri": "https://localhost:8080/"
        },
        "id": "Zt1QToa84KWp",
        "outputId": "e3e48568-15f2-4291-d3e4-518bcc6074ae"
      },
      "outputs": [
        {
          "output_type": "execute_result",
          "data": {
            "text/plain": [
              "3628800"
            ]
          },
          "metadata": {},
          "execution_count": 57
        }
      ],
      "source": [
        "num_fact(10)"
      ]
    },
    {
      "cell_type": "code",
      "execution_count": null,
      "metadata": {
        "id": "pTnNLVeB4KWq"
      },
      "outputs": [],
      "source": []
    },
    {
      "cell_type": "markdown",
      "metadata": {
        "id": "xEj6qJS44KWq"
      },
      "source": [
        "## Dalsza lektura\n",
        "- Python Function Definitions: https://docs.python.org/3/reference/compound_stmts.html#function-definitions\n",
        "- Python Docstring Conventions: https://www.python.org/dev/peps/pep-0257/"
      ]
    },
    {
      "cell_type": "code",
      "execution_count": null,
      "metadata": {
        "id": "uJQjGOQs4KWq"
      },
      "outputs": [],
      "source": []
    }
  ],
  "metadata": {
    "kernelspec": {
      "display_name": "Python 3",
      "language": "python",
      "name": "python3"
    },
    "language_info": {
      "codemirror_mode": {
        "name": "ipython",
        "version": 3
      },
      "file_extension": ".py",
      "mimetype": "text/x-python",
      "name": "python",
      "nbconvert_exporter": "python",
      "pygments_lexer": "ipython3",
      "version": "3.7.6"
    },
    "colab": {
      "provenance": []
    }
  },
  "nbformat": 4,
  "nbformat_minor": 0
}